{
 "cells": [
  {
   "cell_type": "code",
   "execution_count": 1,
   "id": "231a5a47",
   "metadata": {},
   "outputs": [],
   "source": [
    "import pandas as pd\n",
    "import streamlit as st\n",
    "\n",
    "from langchain.chat_models import init_chat_model\n",
    "from langchain.schema import HumanMessage, SystemMessage, AIMessage\n",
    "\n",
    "from langchain_community.embeddings import HuggingFaceEmbeddings\n",
    "from langchain_community.vectorstores import Qdrant\n"
   ]
  },
  {
   "cell_type": "code",
   "execution_count": 2,
   "id": "f9baf643",
   "metadata": {},
   "outputs": [
    {
     "name": "stderr",
     "output_type": "stream",
     "text": [
      "C:\\Users\\Exergon\\AppData\\Local\\Temp\\ipykernel_17500\\2348571433.py:1: LangChainDeprecationWarning: The class `HuggingFaceEmbeddings` was deprecated in LangChain 0.2.2 and will be removed in 1.0. An updated version of the class exists in the :class:`~langchain-huggingface package and should be used instead. To use it run `pip install -U :class:`~langchain-huggingface` and import as `from :class:`~langchain_huggingface import HuggingFaceEmbeddings``.\n",
      "  embeddings = HuggingFaceEmbeddings(\n"
     ]
    }
   ],
   "source": [
    "embeddings = HuggingFaceEmbeddings(\n",
    "    model_name=\"sentence-transformers/all-mpnet-base-v2\"\n",
    ")\n",
    "\n",
    "vectorstore = Qdrant.from_existing_collection(\n",
    "    collection_name=\"texas_plants\",\n",
    "    embedding=embeddings,\n",
    "    path=\"vector_stores/plantkiezer\",\n",
    ")"
   ]
  },
  {
   "cell_type": "code",
   "execution_count": 14,
   "id": "d70b8a7d",
   "metadata": {},
   "outputs": [],
   "source": [
    "def format_docs(docs):\n",
    "        blocks = []\n",
    "\n",
    "        for i, d in enumerate(docs, start=1):\n",
    "            src = d.metadata.get(\"source\") or d.metadata.get(\"id\") or f\"doc-{i}\"\n",
    "            blocks.append(f\"[{i}] {d.page_content}\")\n",
    "        \n",
    "        return \"\\n\\n\".join(blocks)"
   ]
  },
  {
   "cell_type": "code",
   "execution_count": 15,
   "id": "f0bc6277",
   "metadata": {},
   "outputs": [],
   "source": [
    "retrieved_docs = (vectorstore.max_marginal_relevance_search(\"blue plants\", k=3, filter=None))\n",
    "\n",
    "# for doc, score in retrieved_docs:\n",
    "#     print(\"Text:\", doc.page_content)\n",
    "#     print(\"Metadata:\", doc.metadata['uid'])\n",
    "#     print(\"Score:\", score)"
   ]
  },
  {
   "cell_type": "code",
   "execution_count": 21,
   "id": "a836af35",
   "metadata": {},
   "outputs": [
    {
     "name": "stdout",
     "output_type": "stream",
     "text": [
      "{'uid': '712720bf-a351-56bd-adef-3fde4c33015e', 'scientific_name': 'Schizachyrium\\xa0scoparium', 'common_name': 'Little Bluestem', 'native_habitat': 'Grassland, Woodland', 'growth_form': 'Grass & Sedge', 'bloom_season': 'Summer, Fall', 'bloom_color': 'White, Green, Brown', 'lifespan': 'Perennial', 'wildlife_benefit': 'Browsers, Butterflies, Birds, Small Mammals, Bees', 'soil': 'Sand, Loam, Clay, Limestone, Well Drained, Moist, Dry', 'light': 'Sun, Part Shade', 'water': 'Low, Medium', 'min_height': '60.96', 'max_height': '121.92', 'min_spread': '45.72', 'max_spread': '60.96', 'maintenence': \"Very ornamental, especially in mass plantings. Gets its name from the bluish color of the stem bases in the spring, but most striking is the plant's reddish-tan color in fall. It readily reseeds, so give it lots of space. Little bluestem is tolerant of a wide range of soils but will not tolerate wetlands or sub-irrigated sites. In the wild it is a codominant of tall grass prairies and openings in woods. Propagation: seed, root division.\", 'comments': 'A warm-season, clump forming, tall grass. Stems turn radiant mahogany, with silver seed heads in the fall all through winter. The fuzzy white seeds are of particular value to small birds in winter. Larval host: many species of Skippers.', 'leaf_retention': 'Deciduous', 'price': 90.0, 'delivery': 'Delivered within 1 week', 'labels': 'SOLD OUT', '_id': '712720bf-a351-56bd-adef-3fde4c33015e', '_collection_name': 'texas_plants'}\n",
      "{'uid': '4c119aae-b7c1-5354-99b1-1af743cf43bf', 'scientific_name': 'Lupinus havardii', 'common_name': 'Big Bend Bluebonnet', 'native_habitat': 'Grassland', 'growth_form': 'Herbaceous', 'bloom_season': 'Spring', 'bloom_color': 'Blue, Purple', 'lifespan': 'Annual', 'wildlife_benefit': 'Browsers, Butterflies, Nectar Insects, Deer, Bees', 'soil': 'Sand, Loam, Gravelly, Limestone, Dry', 'light': 'Sun', 'water': 'Low', 'min_height': '91.44', 'max_height': '182.88', 'min_spread': '60.96', 'max_spread': '91.44', 'maintenence': 'Low maintenance, drought tolerant. The tallest of the Bluebonnets, looks gorgeous when planted in mass. Excellent for flower borders, prairies and meadows, any xeric, native or high desert garden, cactus garden or xeriscape. Prune out any dead stems in early spring. WARNING: plants in the genus Lupinus, especially the seeds, can be toxic to humans and animals if ingested. Propagation: seed.', 'comments': 'Blooms February-April. Much taller than most bluebonnets. The flowers are very deep blue with a lemon blotch. Palmate leaves are divided into seven leaflets. The fruit is a long bean-like seed pod. Larval host: Sulphurs.', 'leaf_retention': 'Deciduous', 'price': 89.99, 'delivery': 'Delivered within 2 weeks', 'labels': 'PROMOTION', '_id': '4c119aae-b7c1-5354-99b1-1af743cf43bf', '_collection_name': 'texas_plants'}\n",
      "{'uid': '53d03be7-ecb7-5dac-8ff2-2c6548e49a81', 'scientific_name': 'Eustoma exaltatum', 'common_name': 'Small Bluebell', 'native_habitat': 'Grassland, Woodland, Wetland or Riparian', 'growth_form': 'Herbaceous', 'bloom_season': 'Spring, Summer, Fall', 'bloom_color': 'Blue, Purple', 'lifespan': 'Annual', 'wildlife_benefit': 'Butterflies, Birds, Hummingbirds, Bees', 'soil': 'Sand, Loam, Well Drained, Moist, Saline', 'light': 'Sun, Part Shade', 'water': 'High', 'min_height': '30.48', 'max_height': '60.96', 'min_spread': '22.86', 'max_spread': '30.48', 'maintenence': 'Easy to maintain. Very heat tolerant. Texas Bluebell prefers damp conditions and are most likely to be found along the edges of creeks, streams, or drainage areas. This plant develops a long taproot to access moisture from deep within the soil. Texas Bluebells are perfect for the edges of water or rain gardens, in ornamental beds, or borders. Propagation: transplant young rosettes, seed. ', 'comments': 'Blooms March-November. Grows as short-lived perennial or annual depending on growing conditions. The plants are 1-3 feet high with smooth, erect stems and branches. The leaves are long and oval with pointed tips. Texas Bluebells have large, bell-shaped flowers, with bluish-purple petals, which are constricted into a small tube at the base. The throat has prominent purple markings. The fruit is a capsule.', 'leaf_retention': 'Deciduous', 'price': 61.99, 'delivery': 'Buy today, delivered tomorrow', 'labels': 'NEW', '_id': '53d03be7-ecb7-5dac-8ff2-2c6548e49a81', '_collection_name': 'texas_plants'}\n"
     ]
    }
   ],
   "source": [
    "for i, doc in enumerate(retrieved_docs):\n",
    "    print(doc.metadata)"
   ]
  }
 ],
 "metadata": {
  "kernelspec": {
   "display_name": "Python 3",
   "language": "python",
   "name": "python3"
  },
  "language_info": {
   "codemirror_mode": {
    "name": "ipython",
    "version": 3
   },
   "file_extension": ".py",
   "mimetype": "text/x-python",
   "name": "python",
   "nbconvert_exporter": "python",
   "pygments_lexer": "ipython3",
   "version": "3.11.0"
  }
 },
 "nbformat": 4,
 "nbformat_minor": 5
}
